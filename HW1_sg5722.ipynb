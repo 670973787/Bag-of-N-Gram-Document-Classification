{
 "cells": [
  {
   "cell_type": "code",
   "execution_count": 1,
   "metadata": {
    "collapsed": false
   },
   "outputs": [],
   "source": [
    "import os\n",
    "import os.path\n",
    "import tarfile\n",
    "#import tqdm\n",
    "import pickle as pkl\n",
    "import random\n",
    "import numpy as np\n",
    "import spacy\n",
    "import string\n",
    "from collections import Counter\n",
    "from spacy.lang.en.stop_words import STOP_WORDS"
   ]
  },
  {
   "cell_type": "markdown",
   "metadata": {},
   "source": [
    "## data preprocessing"
   ]
  },
  {
   "cell_type": "code",
   "execution_count": 66,
   "metadata": {
    "collapsed": true
   },
   "outputs": [],
   "source": [
    "# read files\n",
    "cwd = os.getcwd()\n",
    "path = '/'.join(cwd.split('\\\\'))+'/'\n",
    "tar = tarfile.open(path+\"aclImdb_v1.tar.gz\", \"r\")\n",
    "names = tar.getnames()\n",
    "\n",
    "train_neg_names = [a for a in names if (len(a)>17 and (a[:17]=='aclImdb/train/neg')) ]\n",
    "train_pos_names = [a for a in names if (len(a)>17 and (a[:17]=='aclImdb/train/pos')) ]\n",
    "test_neg_names = [a for a in names if (len(a)>16 and (a[:16]=='aclImdb/test/neg')) ]\n",
    "test_pos_names = [a for a in names if (len(a)>16 and (a[:16]=='aclImdb/test/pos')) ]\n",
    "\n",
    "#merge files and build labels\n",
    "train_pos_score = []\n",
    "for i in train_pos_names:\n",
    "    tmp = float(i[-5:-4])\n",
    "    if(tmp == 0):\n",
    "        if(i[-6] == \"1\"):\n",
    "            train_pos_score.append(10.0)\n",
    "        else:\n",
    "            train_pos_score.append(0)\n",
    "    else:\n",
    "        train_pos_score.append(tmp)\n",
    "        \n",
    "train_neg_score = []\n",
    "for i in train_neg_names:\n",
    "    tmp = float(i[-5:-4])\n",
    "    if(tmp == 0):\n",
    "        if(i[-6] == \"1\"):\n",
    "            train_neg_score.append(10.0)\n",
    "        else:\n",
    "            train_neg_score.append(0)\n",
    "    else:\n",
    "        train_neg_score.append(tmp)\n",
    "        \n",
    "test_pos_score = []\n",
    "for i in test_pos_names:\n",
    "    tmp = float(i[-5:-4])\n",
    "    if(tmp == 0):\n",
    "        if(i[-6] == \"1\"):\n",
    "            test_pos_score.append(10.0)\n",
    "        else:\n",
    "            test_pos_score.append(0)\n",
    "    else:\n",
    "        test_pos_score.append(tmp)\n",
    "        \n",
    "test_pos_score = []\n",
    "for i in test_pos_names:\n",
    "    tmp = float(i[-5:-4])\n",
    "    if(tmp == 0):\n",
    "        if(i[-6] == \"1\"):\n",
    "            test_pos_score.append(10.0)\n",
    "        else:\n",
    "            test_pos_score.append(0)\n",
    "    else:\n",
    "        test_pos_score.append(tmp)\n",
    "        \n",
    "train_pos = []\n",
    "for i in train_pos_names:\n",
    "    tar.extract(i, path = path)\n",
    "    a=open(path+i,'r',encoding = \"utf-8\")\n",
    "    train_pos.append(a.read())\n",
    "    a.close()\n",
    "    os.remove(path+i)\n",
    "    \n",
    "train_neg = []\n",
    "for i in train_neg_names:\n",
    "    tar.extract(i, path = path)\n",
    "    a=open(path+i,'r',encoding = \"utf-8\")\n",
    "    train_neg.append(a.read())\n",
    "    a.close()\n",
    "    os.remove(path+i)\n",
    "\n",
    "test_pos = []\n",
    "for i in test_pos_names:\n",
    "    tar.extract(i, path = path)\n",
    "    a=open(path+i,'r',encoding = \"utf-8\")\n",
    "    test_pos.append(a.read())\n",
    "    a.close()\n",
    "    os.remove(path+i)\n",
    "    \n",
    "test_neg = []\n",
    "for i in test_neg_names:\n",
    "    tar.extract(i, path = path)\n",
    "    a=open(path+i,'r',encoding = \"utf-8\")\n",
    "    test_neg.append(a.read())\n",
    "    a.close()\n",
    "    os.remove(path+i)\n",
    "\n",
    "train_label = [1] * len(train_pos) +[0] * len(train_neg)\n",
    "train = train_pos + train_neg\n",
    "label_test = [1] * len(test_pos) +[0] * len(test_neg)\n",
    "data_test = test_pos + test_neg\n",
    "train_score = train_pos_score + train_neg_score\n",
    "score_test = test_pos_score +test_neg_score\n",
    "\n",
    "# split training/validation sets\n",
    "val_index = random.sample(range(len(train)), 5000)\n",
    "train_index = list(set(range(len(train))) - set(val_index))\n",
    "data_val = np.array(train)[val_index]\n",
    "label_val = np.array(train_label)[val_index]\n",
    "data_train = np.array(train)[train_index]\n",
    "label_train = np.array(train_label)[train_index]\n",
    "score_val = np.array(train_score)[val_index]\n",
    "score_train = np.array(train_score)[train_index]"
   ]
  },
  {
   "cell_type": "code",
   "execution_count": 135,
   "metadata": {
    "collapsed": false
   },
   "outputs": [],
   "source": [
    "# Load English tokenizer, tagger, parser, NER and word vectors\n",
    "tokenizer = spacy.load('en_core_web_sm')\n",
    "punctuations = string.punctuation\n",
    "\n",
    "# lowercase and remove punctuation\n",
    "def tokenize(sent):\n",
    "    tokens = tokenizer(sent)\n",
    "    return [token.text.lower() for token in tokens]"
   ]
  },
  {
   "cell_type": "code",
   "execution_count": 136,
   "metadata": {
    "collapsed": true
   },
   "outputs": [],
   "source": [
    "def tokenize_dataset(dataset, n_gram=1, punctuation=True, stop_word=True):\n",
    "    token_dataset = []\n",
    "    # we are keeping track of all tokens in dataset \n",
    "    # in order to create vocabulary later\n",
    "    all_tokens = []\n",
    "    \n",
    "    for sample in dataset:\n",
    "        tokens = tokenize(str(sample))\n",
    "        if(stop_word):\n",
    "            tokens_filter = [token for token in tokens if ((token not in punctuations) and (token not in STOP_WORDS))]\n",
    "        elif(punctuation):\n",
    "            tokens_filter = [token for token in tokens if (token not in punctuations)]\n",
    "        else:\n",
    "            tokens_filter = tokens\n",
    "        all_tokens += tokens_filter\n",
    "        tokens_num = len(tokens)\n",
    "        for k in range(1,4):\n",
    "            if(n_gram > k):\n",
    "                for i in range(0, tokens_num-k):\n",
    "                    tokens_filter.append(\" \".join(tokens[i:(i+k+1)]))\n",
    "                    all_tokens += [\" \".join(tokens[i:(i+k+1)])]\n",
    "        token_dataset.append(tokens_filter)\n",
    "    return token_dataset, all_tokens"
   ]
  },
  {
   "cell_type": "code",
   "execution_count": 626,
   "metadata": {
    "collapsed": false
   },
   "outputs": [
    {
     "name": "stdout",
     "output_type": "stream",
     "text": [
      "Tokenizing val data\n",
      "Tokenizing train data\n",
      "Tokenizing test data\n"
     ]
    }
   ],
   "source": [
    "#tokenization\n",
    "print (\"Tokenizing val data\")\n",
    "val_data_tokens, _ = tokenize_dataset(data_val, 2)\n",
    "pkl.dump(val_data_tokens, open(\"val_data_tokens_2gram_hw1.p\", \"wb\"))\n",
    "\n",
    "print (\"Tokenizing train data\")\n",
    "train_data_tokens, all_train_tokens = tokenize_dataset(data_train, 2)\n",
    "pkl.dump(train_data_tokens, open(\"train_data_tokens_2gram_hw1.p\", \"wb\"))\n",
    "pkl.dump(all_train_tokens, open(\"all_train_tokens_2gram_hw1.p\", \"wb\"))\n",
    "\n",
    "print(\"Tokenizing test data\")\n",
    "test_data_tokens, _ = tokenize_dataset(data_test, 2)\n",
    "pkl.dump(test_data_tokens, open(\"test_data_tokens_2gram_hw1.p\", \"wb\"))"
   ]
  },
  {
   "cell_type": "code",
   "execution_count": 4,
   "metadata": {
    "collapsed": false
   },
   "outputs": [
    {
     "name": "stdout",
     "output_type": "stream",
     "text": [
      "Train dataset size is 20000\n",
      "Val dataset size is 5000\n",
      "Test dataset size is 25000\n",
      "Total number of tokens in train dataset is 7720323\n"
     ]
    }
   ],
   "source": [
    "#check size of tokened files\n",
    "print (\"Train dataset size is {}\".format(len(train_data_tokens)))\n",
    "print (\"Val dataset size is {}\".format(len(val_data_tokens)))\n",
    "print (\"Test dataset size is {}\".format(len(test_data_tokens)))\n",
    "print (\"Total number of tokens in train dataset is {}\".format(len(all_train_tokens)))"
   ]
  },
  {
   "cell_type": "code",
   "execution_count": 5,
   "metadata": {
    "collapsed": false
   },
   "outputs": [],
   "source": [
    "max_vocab_size = 25000\n",
    "# save index 0 for unk and 1 for pad\n",
    "PAD_IDX = 0\n",
    "UNK_IDX = 1\n",
    "\n",
    "def build_vocab(all_tokens):\n",
    "    # Returns:\n",
    "    # id2token: list of tokens, where id2token[i] returns token that corresponds to token i\n",
    "    # token2id: dictionary where keys represent tokens and corresponding values represent indices\n",
    "    token_counter = Counter(all_tokens)\n",
    "    vocab, count = zip(*token_counter.most_common(max_vocab_size))\n",
    "    id2token = list(vocab)\n",
    "    token2id = dict(zip(vocab, range(2,2+len(vocab)))) \n",
    "    id2token = ['<pad>', '<unk>'] + id2token\n",
    "    token2id['<pad>'] = PAD_IDX \n",
    "    token2id['<unk>'] = UNK_IDX\n",
    "    return token2id, id2token\n",
    "\n",
    "token2id, id2token = build_vocab(all_train_tokens)"
   ]
  },
  {
   "cell_type": "code",
   "execution_count": 6,
   "metadata": {
    "collapsed": false
   },
   "outputs": [
    {
     "name": "stdout",
     "output_type": "stream",
     "text": [
      "Train dataset size is 20000\n",
      "Val dataset size is 5000\n"
     ]
    }
   ],
   "source": [
    "def token2index_dataset(tokens_data):\n",
    "    indices_data = []\n",
    "    for tokens in tokens_data:\n",
    "        index_list = [token2id[token] if token in token2id else UNK_IDX for token in tokens]\n",
    "        indices_data.append(index_list)\n",
    "    return indices_data\n",
    "\n",
    "train_data_indices = token2index_dataset(train_data_tokens)\n",
    "val_data_indices = token2index_dataset(val_data_tokens)\n",
    "test_data_indices = token2index_dataset(test_data_tokens)\n",
    "\n",
    "# double checking\n",
    "print (\"Train dataset size is {}\".format(len(train_data_indices)))\n",
    "print (\"Val dataset size is {}\".format(len(val_data_indices)))\n",
    "print (\"Test dataset size is {}\".format(len(test_data_indices)))"
   ]
  },
  {
   "cell_type": "markdown",
   "metadata": {},
   "source": [
    "## Predicting Sentiment"
   ]
  },
  {
   "cell_type": "code",
   "execution_count": 75,
   "metadata": {
    "collapsed": false
   },
   "outputs": [],
   "source": [
    "MAX_SENTENCE_LENGTH = 600\n",
    "\n",
    "import numpy as np\n",
    "import torch\n",
    "from torch.utils.data import Dataset\n",
    "\n",
    "class NewsGroupDataset(Dataset):\n",
    "    \"\"\"\n",
    "    Class that represents a train/validation/test dataset that's readable for PyTorch\n",
    "    Note that this class inherits torch.utils.data.Dataset\n",
    "    \"\"\"\n",
    "    \n",
    "    def __init__(self, data_list, target_list):\n",
    "        \"\"\"\n",
    "        @param data_list: list of newsgroup tokens \n",
    "        @param target_list: list of newsgroup targets \n",
    "\n",
    "        \"\"\"\n",
    "        self.data_list = data_list\n",
    "        self.target_list = target_list\n",
    "        assert (len(self.data_list) == len(self.target_list))\n",
    "\n",
    "    def __len__(self):\n",
    "        return len(self.data_list)\n",
    "        \n",
    "    def __getitem__(self, key):\n",
    "        \"\"\"\n",
    "        Triggered when you call dataset[i]\n",
    "        \"\"\"\n",
    "        \n",
    "        token_idx = self.data_list[key][:MAX_SENTENCE_LENGTH]\n",
    "        label = self.target_list[key]\n",
    "        return [token_idx, len(token_idx), label]\n",
    "\n",
    "def newsgroup_collate_func(batch):\n",
    "    \"\"\"\n",
    "    Customized function for DataLoader that dynamically pads the batch so that all \n",
    "    data have the same length\n",
    "    \"\"\"\n",
    "    data_list = []\n",
    "    label_list = []\n",
    "    length_list = []\n",
    "    for datum in batch:\n",
    "        label_list.append(datum[2])\n",
    "        length_list.append(datum[1])\n",
    "    # padding\n",
    "    for datum in batch:\n",
    "        padded_vec = np.pad(np.array(datum[0]), \n",
    "                                pad_width=((0,MAX_SENTENCE_LENGTH-datum[1])), \n",
    "                                mode=\"constant\", constant_values=0)\n",
    "        data_list.append(padded_vec)\n",
    "    return [torch.from_numpy(np.array(data_list)).long(), torch.LongTensor(length_list), torch.LongTensor(label_list)]\n",
    "\n",
    "BATCH_SIZE = 50\n",
    "train_dataset = NewsGroupDataset(train_data_indices, label_train)\n",
    "train_loader = torch.utils.data.DataLoader(dataset=train_dataset, \n",
    "                                           batch_size=BATCH_SIZE,\n",
    "                                           collate_fn=newsgroup_collate_func,\n",
    "                                           shuffle=True)\n",
    "\n",
    "val_dataset = NewsGroupDataset(val_data_indices, label_val)\n",
    "val_loader = torch.utils.data.DataLoader(dataset=val_dataset, \n",
    "                                           batch_size=BATCH_SIZE,\n",
    "                                           collate_fn=newsgroup_collate_func,\n",
    "                                           shuffle=False)\n",
    "\n",
    "test_dataset = NewsGroupDataset(test_data_indices, label_test)\n",
    "test_loader = torch.utils.data.DataLoader(dataset=test_dataset, \n",
    "                                           batch_size=BATCH_SIZE,\n",
    "                                           collate_fn=newsgroup_collate_func,\n",
    "                                           shuffle=False)"
   ]
  },
  {
   "cell_type": "code",
   "execution_count": 76,
   "metadata": {
    "collapsed": true
   },
   "outputs": [],
   "source": [
    "import torch\n",
    "import torch.nn as nn\n",
    "import torch.nn.functional as F\n",
    "\n",
    "class BagOfWords(nn.Module):\n",
    "    \"\"\"\n",
    "    BagOfWords classification model\n",
    "    \"\"\"\n",
    "    def __init__(self, vocab_size, emb_dim):\n",
    "        \"\"\"\n",
    "        @param vocab_size: size of the vocabulary. \n",
    "        @param emb_dim: size of the word embedding\n",
    "        \"\"\"\n",
    "        super(BagOfWords, self).__init__()\n",
    "        # pay attention to padding_idx \n",
    "        self.embed = nn.Embedding(vocab_size, emb_dim, padding_idx=0)\n",
    "        self.linear1 = nn.Linear(emb_dim, 2)\n",
    "        #self.dropout = nn.Dropout(p=1 - nodropout_probability)\n",
    "        #self.linear2 = nn.Linear(200, 2)\n",
    "    \n",
    "    def forward(self, data, length):\n",
    "        \"\"\"\n",
    "        \n",
    "        @param data: matrix of size (batch_size, max_sentence_length). Each row in data represents a \n",
    "            review that is represented using n-gram index. Note that they are padded to have same length.\n",
    "        @param length: an int tensor of size (batch_size), which represents the non-trivial (excludes padding)\n",
    "            length of each sentences in the data.\n",
    "        \"\"\"\n",
    "        out = self.embed(data)\n",
    "        out = torch.sum(out, dim=1)\n",
    "        out /= length.view(length.size()[0],1).expand_as(out).float()\n",
    "     \n",
    "        # return logits\n",
    "        out = self.linear1(out)\n",
    "        #out = F.softmax(out, dim=1)\n",
    "        #out = self.dropout(out)\n",
    "        #out = self.linear2(out)\n",
    "        out = F.log_softmax(out, dim=1)\n",
    "        return out\n",
    "\n"
   ]
  },
  {
   "cell_type": "code",
   "execution_count": 77,
   "metadata": {
    "collapsed": false
   },
   "outputs": [],
   "source": [
    "#set hyperparameters\n",
    "emb_dim = 400\n",
    "learning_rate = 0.001\n",
    "num_epochs = 20\n",
    "nodropout_probability = 0.8\n",
    "model = BagOfWords(len(id2token), emb_dim)"
   ]
  },
  {
   "cell_type": "code",
   "execution_count": 78,
   "metadata": {
    "collapsed": true
   },
   "outputs": [],
   "source": [
    "def do_train(model, dataloader, criterion, optimizer):\n",
    "    model.train()\n",
    "    train_loss = 0\n",
    "    for data, lengths, labels in dataloader:\n",
    "        optimizer.zero_grad()\n",
    "        y_hat = model(data, lengths)\n",
    "        loss = criterion(y_hat, labels.long())\n",
    "        loss.backward()\n",
    "        optimizer.step()\n",
    "        train_loss += loss.item() * len(data) / len(dataloader.dataset)\n",
    "    return train_loss\n",
    "\n",
    "def do_eval(model, dataloader):\n",
    "    model.eval()\n",
    "    y_ls = []\n",
    "    y_hat_ls = []\n",
    "    val_loss = 0\n",
    "    with torch.no_grad():\n",
    "        for data, lengths, labels in dataloader:\n",
    "            y_hat = model(data, lengths)\n",
    "            loss = criterion(y_hat, labels.long())\n",
    "            y_hat_ls.append(y_hat)\n",
    "            y_ls.append(labels)\n",
    "            val_loss += loss.item() * len(data) / len(dataloader.dataset)\n",
    "    optimizer.zero_grad()\n",
    "    return val_loss, torch.cat(y_hat_ls, dim=0), torch.cat(y_ls, dim=0)\n",
    "\n",
    "def acc(model, dataloader):\n",
    "    val_loss, pred,true = do_eval(\n",
    "    model = model,\n",
    "    dataloader = dataloader,\n",
    "    )\n",
    "    return val_loss, (torch.exp(pred).max(1)[1] == true).float().mean().item()"
   ]
  },
  {
   "cell_type": "code",
   "execution_count": 79,
   "metadata": {
    "collapsed": false
   },
   "outputs": [
    {
     "name": "stdout",
     "output_type": "stream",
     "text": [
      "Epoch: [1/20], Train Loss: 0.58800151117146, Val Loss: 0.43902601927518864, Val Acc: 0.8507999777793884\n",
      "Epoch: [2/20], Train Loss: 0.3302837342768907, Val Loss: 0.3246617384254933, Val Acc: 0.8596000075340271\n",
      "Epoch: [3/20], Train Loss: 0.22958611501380816, Val Loss: 0.2668018152564764, Val Acc: 0.8881999850273132\n",
      "Epoch: [4/20], Train Loss: 0.17660969797521822, Val Loss: 0.24642023988068104, Val Acc: 0.899399995803833\n",
      "Epoch: [5/20], Train Loss: 0.13879054923541836, Val Loss: 0.24139636933803552, Val Acc: 0.9014000296592712\n",
      "Epoch: [6/20], Train Loss: 0.1081599530577661, Val Loss: 0.24224533289670935, Val Acc: 0.902999997138977\n",
      "Epoch: [7/20], Train Loss: 0.08459293858148159, Val Loss: 0.24805443465709684, Val Acc: 0.9046000242233276\n",
      "Epoch: [8/20], Train Loss: 0.0650572704616934, Val Loss: 0.2544720259308815, Val Acc: 0.9043999910354614\n",
      "Epoch: [9/20], Train Loss: 0.049707852911669854, Val Loss: 0.26447165437042713, Val Acc: 0.902999997138977\n",
      "Epoch: [10/20], Train Loss: 0.037948018923634676, Val Loss: 0.27925476394593707, Val Acc: 0.9016000032424927\n",
      "Epoch: [11/20], Train Loss: 0.02845222130417824, Val Loss: 0.29149423591792595, Val Acc: 0.8996000289916992\n",
      "Epoch: [12/20], Train Loss: 0.021317646936513505, Val Loss: 0.30277748450636854, Val Acc: 0.8996000289916992\n",
      "Epoch: [13/20], Train Loss: 0.015915760685456925, Val Loss: 0.31841883599758153, Val Acc: 0.899399995803833\n",
      "Epoch: [14/20], Train Loss: 0.012150074372766542, Val Loss: 0.33048533841967576, Val Acc: 0.8988000154495239\n",
      "Epoch: [15/20], Train Loss: 0.00918640416930429, Val Loss: 0.3449408616125584, Val Acc: 0.8978000283241272\n",
      "Epoch: [16/20], Train Loss: 0.007015732423169539, Val Loss: 0.35899783037602895, Val Acc: 0.897599995136261\n",
      "Epoch: [17/20], Train Loss: 0.005302112500648947, Val Loss: 0.37659277915954603, Val Acc: 0.896399974822998\n",
      "Epoch: [18/20], Train Loss: 0.004033227457839527, Val Loss: 0.387728454321623, Val Acc: 0.8962000012397766\n",
      "Epoch: [19/20], Train Loss: 0.0030688345088856293, Val Loss: 0.4022039408236741, Val Acc: 0.8974000215530396\n",
      "Epoch: [20/20], Train Loss: 0.0023883317141735454, Val Loss: 0.41641724459826956, Val Acc: 0.8962000012397766\n"
     ]
    }
   ],
   "source": [
    "\n",
    "#lambda1 = lambda epoch: 1-0.1*epoch\n",
    "criterion = torch.nn.NLLLoss()\n",
    "optimizer = torch.optim.Adam(model.parameters(), lr=learning_rate)\n",
    "#scheduler = torch.optim.lr_scheduler.LambdaLR(optimizer, lr_lambda=lambda1)\n",
    "loss_train = []\n",
    "loss_val = []\n",
    "acc_val = []\n",
    "for epoch in range(num_epochs):\n",
    "    #scheduler.step()\n",
    "    loss = do_train(\n",
    "        model=model, \n",
    "        criterion=criterion,\n",
    "        dataloader=train_loader,\n",
    "        optimizer=optimizer,\n",
    "    )\n",
    "    loss_train.append(loss)\n",
    "    val_loss, val_acc = acc(model, val_loader)\n",
    "    loss_val.append(val_loss)\n",
    "    acc_val.append(val_acc)\n",
    "    print('Epoch: [{}/{}], Train Loss: {}, Val Loss: {}, Val Acc: {}'.format( \n",
    "                       epoch+1, num_epochs, loss, val_loss, val_acc))\n"
   ]
  },
  {
   "cell_type": "code",
   "execution_count": 80,
   "metadata": {
    "collapsed": false
   },
   "outputs": [
    {
     "data": {
      "image/png": "[encoded data removed]",
      "text/plain": [
       "<Figure size 432x288 with 1 Axes>"
      ]
     },
     "metadata": {},
     "output_type": "display_data"
    }
   ],
   "source": [
    "import matplotlib.pyplot as plt\n",
    "#plot training curve\n",
    "plt.figure(figsize=(15, 10))\n",
    "plt.plot(range(1, len(loss_train)+1), loss_train, label=\"Training Loss\")\n",
    "plt.plot(range(1, len(loss_val)+1), loss_val, label=\"Validation Loss\")\n",
    "plt.xticks(range(1, len(loss_val)+1))\n",
    "#plt.ylim(0,0.7)\n",
    "plt.legend()\n",
    "plt.title(\"Training Curve\")\n",
    "plt.show()"
   ]
  },
  {
   "cell_type": "code",
   "execution_count": 81,
   "metadata": {
    "collapsed": false
   },
   "outputs": [
    {
     "name": "stdout",
     "output_type": "stream",
     "text": [
      "Epoch: [1/20], Train Loss: 0.6003804549574854, Val Loss: 0.4617471018433568, Val Acc: 0.8361999988555908\n",
      "Epoch: [2/20], Train Loss: 0.34190539460629216, Val Loss: 0.30558265209197993, Val Acc: 0.8845999836921692\n",
      "Epoch: [3/20], Train Loss: 0.23323464967310434, Val Loss: 0.26597335845232023, Val Acc: 0.8978000283241272\n",
      "Epoch: [4/20], Train Loss: 0.1794719515368343, Val Loss: 0.24953824207186692, Val Acc: 0.8985999822616577\n",
      "Epoch: [5/20], Train Loss: 0.14063933039084084, Val Loss: 0.2428997721523046, Val Acc: 0.9031999707221985\n"
     ]
    }
   ],
   "source": [
    "#early stopping\n",
    "model = BagOfWords(len(id2token), emb_dim)\n",
    "#lambda1 = lambda epoch: 1-0.1*epoch\n",
    "criterion = torch.nn.NLLLoss()\n",
    "optimizer = torch.optim.Adam(model.parameters(), lr=learning_rate)\n",
    "#scheduler = torch.optim.lr_scheduler.LambdaLR(optimizer, lr_lambda=lambda1)\n",
    "loss_train = []\n",
    "loss_val = []\n",
    "acc_val = []\n",
    "for epoch in range(5):\n",
    "    #scheduler.step()\n",
    "    loss = do_train(\n",
    "        model=model, \n",
    "        criterion=criterion,\n",
    "        dataloader=train_loader,\n",
    "        optimizer=optimizer,\n",
    "    )\n",
    "    loss_train.append(loss)\n",
    "    val_loss, val_acc = acc(model, val_loader)\n",
    "    loss_val.append(val_loss)\n",
    "    acc_val.append(val_acc)\n",
    "    print('Epoch: [{}/{}], Train Loss: {}, Val Loss: {}, Val Acc: {}'.format( \n",
    "                       epoch+1, num_epochs, loss, val_loss, val_acc))\n"
   ]
  },
  {
   "cell_type": "code",
   "execution_count": 83,
   "metadata": {
    "collapsed": false
   },
   "outputs": [
    {
     "name": "stdout",
     "output_type": "stream",
     "text": [
      "After training for 5 epochs\n",
      "Test Acc 0.8970800042152405\n"
     ]
    }
   ],
   "source": [
    "# test accuracy\n",
    "print (\"After training for {} epochs\".format(5))\n",
    "print (\"Test Acc {}\".format(acc(model, test_loader)[1]))"
   ]
  },
  {
   "cell_type": "code",
   "execution_count": 96,
   "metadata": {
    "collapsed": false
   },
   "outputs": [
    {
     "name": "stdout",
     "output_type": "stream",
     "text": [
      "3 correct case\n",
      "['Loony Tunes have ventured (at least) twice into the future. The first time was with the brilliantly funny \"Duck Dodgers\". The latter time was with this \\x85 um \\x85 effort. \"Loonatics Unleashed\" isn\\'t without merit, and might be considered a good product were it not that it isn\\'t up to Warner Brothers quality. WB cartoons are noted for their cheeky humor, appealing at least as much to adults as to children. These pedestrian superhero episodes, on the other hand, cannot fail to convince adults to pass them up.<br /><br />The premise of the series is that 6 ordinary individuals (2 bunnies, a Tasmanian devil, a duck, a roadrunner, and a coyote) live on the \"city-planet\" of Acmetropolis and acquire super powers when a meteor strikes the planet in 2772. What\\'s confusing is that the titles section features these individuals with a count-up to 2772 from the 21st Century. Cute, but frelling stupid.<br /><br />In each episode, the super sextet \\x96 amid mildly amusing but essentially banal banter \\x96 fight various super villains. For the most part, these are types that appear in every mediocre superhero adventure series and even some of the better ones. Like many mediocre superhero series, this one takes its villains far too seriously for the context. And of course these guys are the only characters that laugh \\x96 the usual evil laugh, of course. Why is it that villains in predictable superhero adventures always \\x96 ALWAYS \\x96 laugh evilly at every opportunity? Animated material of this sort seems to leave laughter exclusively in the province of villains and (occasionally) their henchpeople and/or henchthings.<br /><br />In point of fact, the makers of this series missed their best bets right from the get-go. The superpowers of the characters are sometimes based on their previous normal abilities, but sometimes not. The problem here is that we don\\'t see enough WB looniness. Lexi and Ace have fairly ordinary biologically generated energy weapons and have virtually no personality traits one could describe as \"Bugs-like\". What we have here is basically the silly and drekish \"Teen Titans\", including its overly \"modern\" animation \"look\", but with animals. Feh.<br /><br />The other misstep by the program\\'s creators is (or are) the villains. As noted before, these are not terribly imaginative and do the evil-laugh bit excessively. Amazingly, the writers totally missed the obvious technique of making villains from stock WB characters as well as the protagonists. Adding to the fun could have been, say, Jupiter Sam \\x96 as well as The Fudd, still hunting wabbits \\x96 as well as Tech E. Coyote converted into a really neurotic villain \\x96 and so on. Ah, the sadness of missed opportunities\\x85.<br /><br />Sadly, this whole production has gone into too much overtime (that is, a 2nd season). Nevertheless, we can rejoice that there\\'s something new out there for the 14-going-on-9 crowd. The rest of us can hope for a 3rd season of Duck Dodgers.'\n",
      " 'This \"movie\" is more like a music video. Kusturica said in an interview from 2004 that when he is making movies, he feels like making music, and when he is making music, he feels like making movies. The best thing in \"Promise me this\" is the music, written by Stribor Kusturica.<br /><br />Kusturica said in the same interview, that for him the dialogues in the movies are like noise. \"Promise me this\" has very little \"noise\".<br /><br />I liked \"Life is a miracle\". It was also like music video for the first 30 minutes and at some points later, but it had a beautiful plot. \"Promise me this\" has no plot. I was awaiting this movie with big expectations, because I\\'ve read, that the script has been written by Ranko Bozic - one of my favourite scriptwriters, who participated also in \"Life is a miracle\". Ranko Bozic writes great dialogues, but for Kusturica they are \"noise\", and much to my regret, I saw only two dialogues, which I could identify as written by Ranko Bozic. The other part of the script was used by the director for making his chaotic music video for the music of his son Stribor.<br /><br />Gordan Mihic (the man who wrote the scripts for \"Time of the gypsies\" and \"Black cat white cat\") said in an interview, that Kusturica never follows the script. \"Black cat white cat\" was the only script, for which Kusturica said, that he will not touch it. According to Gordan Mihic, after all Kusturica comes back to the script, and if he doesn\\'t, he doesn\\'t make a good movie. And I think this is the case with \"Promise me this\". He should have followed the script of Ranko Bozic.<br /><br />\"Promise me this\" is billed as a \"comedy\", but there are very few moments, which made me laugh. The comedic moments are in the same style as \"Black cat white cat\", but are not that funny at all. I think the difference comes from the fact, that \"Black cat white cat\" was written by Gordan Mihic.<br /><br />However, I know some people, who liked \"Promise me this\", they find it very positive movie.'\n",
      " \"This movie is brilliant. The comments made before is from someone who obviously doesn't get it. The movie is campy- yes! But it is uplifting and fun. This movie is an underground hit and brings comparisons to Absolutely Fabulous. It is a must see!\"]\n",
      "3 incorrect case\n",
      "[\"This fanciful horror flick has Vincent Price playing a mad magician that realizes his vocational talents have been sold to another. He devise ways of avenging all those that have wronged him. His master scheme seems to back fire on him.<br /><br />Price is a little below par compared to his masterpieces, but is still the only reason to watch this thriller. Supporting cast includes Patrick O'Neal, Mary Murphy, Eva Gabor and Jay Novello.<br /><br />\"\n",
      " 'I went into this movie hoping for the best. I like wartime musicals in general. Dick Powell and Lucille Ball did good jobs with their roles; however, the writers gave them boring dialog. The love-interest between the two of them was not given any real growth; just suddenly it was there. I did not think much of the music; the best number was the snippet we heard of Spike Jones with \"Der Fuhrer\\'s Face.\" The one complete number that Spike Jones did had little of his great musical comedy; pretty tame stuff,even with the monkey. Bert Lahr\\'s comedy skits were interminable.<br /><br />There were parts to enjoy: Lucille Ball was quite a looker, and there was a good selection of bit players who really deserved more time on screen.'\n",
      " 'This is a very rare example of a movie about transvestitism (of heterosexuals). The film treats the taboo theme so that even a general audience not knowing of transvestitism at all will strongly sympathize with its main character. Adrian Pasdar is very believable as Gerald/Geraldine and shall not be forgot for this brillant acting. The directing of Christopher Monger is very sensitively, treating such a difficult issue quite excellently, packed into a good story. Not a big movie, neither an \"art\" film, but a little, lovely motion picture!']\n"
     ]
    }
   ],
   "source": [
    "#three correct and incorrect case in the validation set\n",
    "_, pred,true = do_eval(model, val_loader)\n",
    "judge = (torch.exp(pred).max(1)[1] == true).numpy()\n",
    "print(\"3 correct case\")\n",
    "print(data_val[judge==1][:3])\n",
    "judge = (torch.exp(pred).max(1)[1] == true).numpy()\n",
    "print(\"3 incorrect case\")\n",
    "print(data_val[judge==0][:3])"
   ]
  },
  {
   "cell_type": "markdown",
   "metadata": {},
   "source": [
    "## Predicting Scores"
   ]
  },
  {
   "cell_type": "code",
   "execution_count": 13,
   "metadata": {
    "collapsed": false
   },
   "outputs": [],
   "source": [
    "MAX_SENTENCE_LENGTH = 600\n",
    "\n",
    "import numpy as np\n",
    "import torch\n",
    "from torch.utils.data import Dataset\n",
    "\n",
    "class NewsGroupDataset(Dataset):\n",
    "    \"\"\"\n",
    "    Class that represents a train/validation/test dataset that's readable for PyTorch\n",
    "    Note that this class inherits torch.utils.data.Dataset\n",
    "    \"\"\"\n",
    "    \n",
    "    def __init__(self, data_list, target_list):\n",
    "        \"\"\"\n",
    "        @param data_list: list of newsgroup tokens \n",
    "        @param target_list: list of newsgroup targets \n",
    "\n",
    "        \"\"\"\n",
    "        self.data_list = data_list\n",
    "        self.target_list = target_list\n",
    "        assert (len(self.data_list) == len(self.target_list))\n",
    "\n",
    "    def __len__(self):\n",
    "        return len(self.data_list)\n",
    "        \n",
    "    def __getitem__(self, key):\n",
    "        \"\"\"\n",
    "        Triggered when you call dataset[i]\n",
    "        \"\"\"\n",
    "        \n",
    "        token_idx = self.data_list[key][:MAX_SENTENCE_LENGTH]\n",
    "        label = self.target_list[key]\n",
    "        return [token_idx, len(token_idx), label]\n",
    "\n",
    "def newsgroup_collate_func(batch):\n",
    "    \"\"\"\n",
    "    Customized function for DataLoader that dynamically pads the batch so that all \n",
    "    data have the same length\n",
    "    \"\"\"\n",
    "    data_list = []\n",
    "    label_list = []\n",
    "    length_list = []\n",
    "    for datum in batch:\n",
    "        label_list.append(datum[2])\n",
    "        length_list.append(datum[1])\n",
    "    # padding\n",
    "    for datum in batch:\n",
    "        padded_vec = np.pad(np.array(datum[0]), \n",
    "                                pad_width=((0,MAX_SENTENCE_LENGTH-datum[1])), \n",
    "                                mode=\"constant\", constant_values=0)\n",
    "        data_list.append(padded_vec)\n",
    "    return [torch.from_numpy(np.array(data_list)).long(), torch.LongTensor(length_list), torch.LongTensor(label_list)]\n",
    "\n",
    "BATCH_SIZE = 50\n",
    "train_dataset = NewsGroupDataset(train_data_indices, score_train-1)\n",
    "train_loader = torch.utils.data.DataLoader(dataset=train_dataset, \n",
    "                                           batch_size=BATCH_SIZE,\n",
    "                                           collate_fn=newsgroup_collate_func,\n",
    "                                           shuffle=True)\n",
    "\n",
    "val_dataset = NewsGroupDataset(val_data_indices, score_val-1)\n",
    "val_loader = torch.utils.data.DataLoader(dataset=val_dataset, \n",
    "                                           batch_size=BATCH_SIZE,\n",
    "                                           collate_fn=newsgroup_collate_func,\n",
    "                                           shuffle=False)\n",
    "\n",
    "test_dataset = NewsGroupDataset(test_data_indices, np.array(score_test)-1)\n",
    "test_loader = torch.utils.data.DataLoader(dataset=test_dataset, \n",
    "                                           batch_size=BATCH_SIZE,\n",
    "                                           collate_fn=newsgroup_collate_func,\n",
    "                                           shuffle=False)\n"
   ]
  },
  {
   "cell_type": "code",
   "execution_count": 55,
   "metadata": {
    "collapsed": true
   },
   "outputs": [],
   "source": [
    "import torch\n",
    "import torch.nn as nn\n",
    "import torch.nn.functional as F\n",
    "\n",
    "class BagOfWords(nn.Module):\n",
    "    \"\"\"\n",
    "    BagOfWords classification model\n",
    "    \"\"\"\n",
    "    def __init__(self, vocab_size, emb_dim):\n",
    "        \"\"\"\n",
    "        @param vocab_size: size of the vocabulary. \n",
    "        @param emb_dim: size of the word embedding\n",
    "        \"\"\"\n",
    "        super(BagOfWords, self).__init__()\n",
    "        # pay attention to padding_idx \n",
    "        self.embed = nn.Embedding(vocab_size, emb_dim, padding_idx=0)\n",
    "        self.linear1 = nn.Linear(emb_dim, 10)\n",
    "        self.dropout = nn.Dropout(p=1 - nodropout_probability)\n",
    "        self.linear2 = nn.Linear(200, 10)\n",
    "    \n",
    "    def forward(self, data, length):\n",
    "        \"\"\"\n",
    "        \n",
    "        @param data: matrix of size (batch_size, max_sentence_length). Each row in data represents a \n",
    "            review that is represented using n-gram index. Note that they are padded to have same length.\n",
    "        @param length: an int tensor of size (batch_size), which represents the non-trivial (excludes padding)\n",
    "            length of each sentences in the data.\n",
    "        \"\"\"\n",
    "        out = self.embed(data)\n",
    "        out = torch.sum(out, dim=1)\n",
    "        out /= length.view(length.size()[0],1).expand_as(out).float()\n",
    "     \n",
    "        # return logits\n",
    "        out = self.linear1(out)\n",
    "        #out = F.softmax(out, dim=1)\n",
    "        #out = self.dropout(out)\n",
    "        #out = self.linear2(out)\n",
    "        out = F.log_softmax(out, dim=1)\n",
    "        return out\n",
    "\n",
    "emb_dim = 600"
   ]
  },
  {
   "cell_type": "code",
   "execution_count": 56,
   "metadata": {
    "collapsed": true
   },
   "outputs": [],
   "source": [
    "learning_rate = 0.001\n",
    "num_epochs = 20\n",
    "nodropout_probability = 0.6\n",
    "model = BagOfWords(len(id2token), emb_dim)"
   ]
  },
  {
   "cell_type": "code",
   "execution_count": 57,
   "metadata": {
    "collapsed": true
   },
   "outputs": [],
   "source": [
    "def do_train(model, dataloader, criterion, optimizer):\n",
    "    global y_hat\n",
    "    model.train()\n",
    "    train_loss = 0\n",
    "    for data, lengths, labels in dataloader:\n",
    "        optimizer.zero_grad()\n",
    "        y_hat = model(data, lengths)\n",
    "        loss = criterion(y_hat, labels.long())\n",
    "        loss.backward()\n",
    "        optimizer.step()\n",
    "        train_loss += loss.item() * len(data) / len(dataloader.dataset)\n",
    "    return train_loss\n",
    "\n",
    "def do_eval(model, dataloader):\n",
    "    model.eval()\n",
    "    y_ls = []\n",
    "    y_hat_ls = []\n",
    "    val_loss = 0\n",
    "    with torch.no_grad():\n",
    "        for data, lengths, labels in dataloader:\n",
    "            y_hat = model(data, lengths)\n",
    "            loss = criterion(y_hat, labels.long())\n",
    "            y_hat_ls.append(y_hat)\n",
    "            y_ls.append(labels)\n",
    "            val_loss += loss.item() * len(data) / len(dataloader.dataset)\n",
    "    optimizer.zero_grad()\n",
    "    return val_loss, torch.cat(y_hat_ls, dim=0), torch.cat(y_ls, dim=0)\n",
    "\n",
    "def acc(model, dataloader):\n",
    "    val_loss, pred,true = do_eval(\n",
    "    model = model,\n",
    "    dataloader = dataloader,\n",
    "    )\n",
    "    return val_loss, (torch.exp(pred).max(1)[1] == true).float().mean().item()"
   ]
  },
  {
   "cell_type": "code",
   "execution_count": 58,
   "metadata": {
    "collapsed": false
   },
   "outputs": [
    {
     "name": "stdout",
     "output_type": "stream",
     "text": [
      "Epoch: [1/20], Train Loss: 1.9865798291563994, Val Loss: 1.8747088277339936, Val Acc: 0.35339999198913574\n",
      "Epoch: [2/20], Train Loss: 1.7045972469449058, Val Loss: 1.6225536322593692, Val Acc: 0.39259999990463257\n",
      "Epoch: [3/20], Train Loss: 1.4811328124999996, Val Loss: 1.517610048055648, Val Acc: 0.42260000109672546\n",
      "Epoch: [4/20], Train Loss: 1.3398952871561043, Val Loss: 1.4598029404878607, Val Acc: 0.44179999828338623\n",
      "Epoch: [5/20], Train Loss: 1.2305912639200687, Val Loss: 1.4596172219514842, Val Acc: 0.42899999022483826\n",
      "Epoch: [6/20], Train Loss: 1.1205519209802157, Val Loss: 1.427342021465301, Val Acc: 0.4413999915122986\n",
      "Epoch: [7/20], Train Loss: 1.016979096233845, Val Loss: 1.4314233094453817, Val Acc: 0.4415999948978424\n",
      "Epoch: [8/20], Train Loss: 0.9115160684287547, Val Loss: 1.4410927134752276, Val Acc: 0.4408000111579895\n",
      "Epoch: [9/20], Train Loss: 0.8085804544389247, Val Loss: 1.4640153884887692, Val Acc: 0.4350000023841858\n",
      "Epoch: [10/20], Train Loss: 0.7037753657996655, Val Loss: 1.492137484550476, Val Acc: 0.43140000104904175\n",
      "Epoch: [11/20], Train Loss: 0.6100371505320076, Val Loss: 1.5132285922765731, Val Acc: 0.4415999948978424\n",
      "Epoch: [12/20], Train Loss: 0.5221510766446589, Val Loss: 1.549325568675995, Val Acc: 0.4350000023841858\n",
      "Epoch: [13/20], Train Loss: 0.44334108084440194, Val Loss: 1.592767862081527, Val Acc: 0.4352000057697296\n",
      "Epoch: [14/20], Train Loss: 0.37270139545202247, Val Loss: 1.6520204484462737, Val Acc: 0.42559999227523804\n",
      "Epoch: [15/20], Train Loss: 0.30966310091316723, Val Loss: 1.6999711704254148, Val Acc: 0.42559999227523804\n",
      "Epoch: [16/20], Train Loss: 0.25553766407072553, Val Loss: 1.760933303833008, Val Acc: 0.42160001397132874\n",
      "Epoch: [17/20], Train Loss: 0.21001314625144, Val Loss: 1.8186115849018099, Val Acc: 0.41940000653266907\n",
      "Epoch: [18/20], Train Loss: 0.17000453185290107, Val Loss: 1.8842386043071742, Val Acc: 0.42340001463890076\n",
      "Epoch: [19/20], Train Loss: 0.1368754229322075, Val Loss: 1.9549797916412355, Val Acc: 0.4153999984264374\n",
      "Epoch: [20/20], Train Loss: 0.1090828199498356, Val Loss: 2.0235742139816284, Val Acc: 0.420199990272522\n"
     ]
    }
   ],
   "source": [
    "#lambda1 = lambda epoch: 1-0.1*epoch\n",
    "criterion = torch.nn.NLLLoss()\n",
    "optimizer = torch.optim.Adam(model.parameters(), lr=learning_rate)\n",
    "#scheduler = torch.optim.lr_scheduler.LambdaLR(optimizer, lr_lambda=lambda1)\n",
    "loss_train = []\n",
    "loss_val = []\n",
    "acc_val = []\n",
    "for epoch in range(num_epochs):\n",
    "    #scheduler.step()\n",
    "    loss = do_train(\n",
    "        model=model, \n",
    "        criterion=criterion,\n",
    "        dataloader=train_loader,\n",
    "        optimizer=optimizer,\n",
    "    )\n",
    "    loss_train.append(loss)\n",
    "    val_loss, val_acc = acc(model, val_loader)\n",
    "    loss_val.append(val_loss)\n",
    "    acc_val.append(val_acc)\n",
    "    print('Epoch: [{}/{}], Train Loss: {}, Val Loss: {}, Val Acc: {}'.format( \n",
    "                       epoch+1, num_epochs, loss, val_loss, val_acc))"
   ]
  },
  {
   "cell_type": "code",
   "execution_count": 62,
   "metadata": {
    "collapsed": false
   },
   "outputs": [
    {
     "data": {
      "image/png": "[encoded data removed]",
      "text/plain": [
       "<Figure size 1080x720 with 1 Axes>"
      ]
     },
     "metadata": {},
     "output_type": "display_data"
    }
   ],
   "source": [
    "import matplotlib.pyplot as plt\n",
    "plt.figure(figsize=(15, 10))\n",
    "plt.plot(range(1, len(loss_train)+1), loss_train, label=\"Training Loss\")\n",
    "plt.plot(range(1, len(loss_val)+1), loss_val, label=\"Validation Loss\")\n",
    "plt.xticks(range(1, len(loss_val)+1))\n",
    "#plt.ylim(0,0.7)\n",
    "plt.legend()\n",
    "plt.title(\"Training Curve\")\n",
    "plt.show()"
   ]
  },
  {
   "cell_type": "code",
   "execution_count": 63,
   "metadata": {
    "collapsed": false
   },
   "outputs": [
    {
     "name": "stdout",
     "output_type": "stream",
     "text": [
      "Epoch: [1/20], Train Loss: 1.984321683645248, Val Loss: 1.8721805524826045, Val Acc: 0.3140000104904175\n",
      "Epoch: [2/20], Train Loss: 1.7011786177754418, Val Loss: 1.6252579700946803, Val Acc: 0.39800000190734863\n",
      "Epoch: [3/20], Train Loss: 1.4836363396048535, Val Loss: 1.5096246957778925, Val Acc: 0.43220001459121704\n",
      "Epoch: [4/20], Train Loss: 1.3414069819450378, Val Loss: 1.4609384101629264, Val Acc: 0.44519999623298645\n",
      "Epoch: [5/20], Train Loss: 1.2261995701491823, Val Loss: 1.4332348948717122, Val Acc: 0.4472000002861023\n",
      "Epoch: [6/20], Train Loss: 1.1188027209043516, Val Loss: 1.4226779758930206, Val Acc: 0.4447999894618988\n"
     ]
    }
   ],
   "source": [
    "model = BagOfWords(len(id2token), emb_dim)\n",
    "#lambda1 = lambda epoch: 1-0.1*epoch\n",
    "criterion = torch.nn.NLLLoss()\n",
    "optimizer = torch.optim.Adam(model.parameters(), lr=learning_rate)\n",
    "#scheduler = torch.optim.lr_scheduler.LambdaLR(optimizer, lr_lambda=lambda1)\n",
    "loss_train = []\n",
    "loss_val = []\n",
    "acc_val = []\n",
    "for epoch in range(6):\n",
    "    #scheduler.step()\n",
    "    loss = do_train(\n",
    "        model=model, \n",
    "        criterion=criterion,\n",
    "        dataloader=train_loader,\n",
    "        optimizer=optimizer,\n",
    "    )\n",
    "    loss_train.append(loss)\n",
    "    val_loss, val_acc = acc(model, val_loader)\n",
    "    loss_val.append(val_loss)\n",
    "    acc_val.append(val_acc)\n",
    "    print('Epoch: [{}/{}], Train Loss: {}, Val Loss: {}, Val Acc: {}'.format( \n",
    "                       epoch+1, num_epochs, loss, val_loss, val_acc))"
   ]
  },
  {
   "cell_type": "code",
   "execution_count": 65,
   "metadata": {
    "collapsed": false
   },
   "outputs": [
    {
     "name": "stdout",
     "output_type": "stream",
     "text": [
      "Test Accuracy: 0.44196000695228577\n",
      "Top 3 Test Accuracy: 0.6912400126457214\n"
     ]
    }
   ],
   "source": [
    "_, pred,true = do_eval(\n",
    "    model = model,\n",
    "    dataloader = test_loader,\n",
    "    )\n",
    "print(\"Test Accuracy: {}\".format((torch.exp(pred).max(1)[1] == true).float().mean().item()))\n",
    "print(\"Top 3 Test Accuracy: {}\".format(((torch.exp(pred).max(1)[1] <= true+1) & (torch.exp(pred).max(1)[1] >= true-1)).float().mean().item()))"
   ]
  }
 ],
 "metadata": {
  "kernelspec": {
   "display_name": "NLP",
   "language": "python",
   "name": "nlp"
  },
  "language_info": {
   "codemirror_mode": {
    "name": "ipython",
    "version": 3
   },
   "file_extension": ".py",
   "mimetype": "text/x-python",
   "name": "python",
   "nbconvert_exporter": "python",
   "pygments_lexer": "ipython3",
   "version": "3.6.5"
  }
 },
 "nbformat": 4,
 "nbformat_minor": 2
}
